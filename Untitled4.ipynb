{
  "nbformat": 4,
  "nbformat_minor": 0,
  "metadata": {
    "colab": {
      "provenance": [],
      "authorship_tag": "ABX9TyPA9+D0BZ7t7Wda+LuSUo/B",
      "include_colab_link": true
    },
    "kernelspec": {
      "name": "python3",
      "display_name": "Python 3"
    },
    "language_info": {
      "name": "python"
    }
  },
  "cells": [
    {
      "cell_type": "markdown",
      "metadata": {
        "id": "view-in-github",
        "colab_type": "text"
      },
      "source": [
        "<a href=\"https://colab.research.google.com/github/veekshith11/COSC-Git-and-GitHub-Bootcamp/blob/main/Untitled4.ipynb\" target=\"_parent\"><img src=\"https://colab.research.google.com/assets/colab-badge.svg\" alt=\"Open In Colab\"/></a>"
      ]
    },
    {
      "cell_type": "code",
      "source": [
        "MAX, MIN = 1000, -1000\n",
        "\n",
        "\n",
        "def minimax(depth, nodeIndex, maximizingPlayer,\n",
        "            values, alpha, beta):\n",
        "    if depth == 3:\n",
        "        return values[nodeIndex]\n",
        "\n",
        "    if maximizingPlayer:\n",
        "\n",
        "        best = MIN\n",
        "\n",
        "        for i in range(0, 2):\n",
        "\n",
        "            val = minimax(depth + 1, nodeIndex * 2 + i,\n",
        "                        False, values, alpha, beta)\n",
        "            best = max(best, val)\n",
        "            alpha = max(alpha, best)\n",
        "\n",
        "            if beta <= alpha:\n",
        "                break\n",
        "\n",
        "        return best\n",
        "\n",
        "    else:\n",
        "        best = MAX\n",
        "\n",
        "        for i in range(0, 2):\n",
        "\n",
        "            val = minimax(depth + 1, nodeIndex * 2 + i,\n",
        "                            True, values, alpha, beta)\n",
        "            best = min(best, val)\n",
        "            beta = min(beta, best)\n",
        "\n",
        "            if beta <= alpha:\n",
        "                break\n",
        "\n",
        "        return best\n",
        "values = [10,-3,-19,11,11,0,-2,-2,-2,14,-16,2,17,15,-14,15,-15,13,-19,-9,4,-9,2,9,-14,2,-16]\n",
        "print(\"The optimal value is :\", minimax(0, 0, True, values, MIN, MAX))"
      ],
      "metadata": {
        "colab": {
          "base_uri": "https://localhost:8080/"
        },
        "id": "eR31TYAvn3gr",
        "outputId": "d3f0653a-9adc-4c92-a16a-f2b646ed3220"
      },
      "execution_count": 4,
      "outputs": [
        {
          "output_type": "stream",
          "name": "stdout",
          "text": [
            "The optimal value is : 10\n"
          ]
        }
      ]
    }
  ]
}